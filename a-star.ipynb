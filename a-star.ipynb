{
 "cells": [
  {
   "cell_type": "code",
   "execution_count": 5,
   "metadata": {},
   "outputs": [],
   "source": [
    "import math\n",
    "from enum import Enum\n",
    "import numpy as np\n",
    "import pandas as pd\n",
    "from collections import namedtuple, defaultdict\n",
    "from typing import List, Tuple"
   ]
  },
  {
   "cell_type": "code",
   "execution_count": 6,
   "metadata": {},
   "outputs": [],
   "source": [
    "NUM_ROWS = 10\n",
    "NUM_COLS = 10\n",
    "\n",
    "Pos = namedtuple('Pos', ['r', 'c'])\n",
    "\n",
    "class NodeState(Enum):\n",
    "    VACANT = 0\n",
    "    WALL = 1\n",
    "    ORIGIN = 'O'\n",
    "    GOAL = 'G'\n",
    "    VISITED = 4\n",
    "    PATH = 'X'\n",
    "\n",
    "    def __repr__(self):\n",
    "        return str(self.value)\n",
    "\n",
    "class Node:\n",
    "    def __init__(self, pos: Pos, state: NodeState):\n",
    "        self.state = state\n",
    "        self.pos = pos\n",
    "        self.heuristic = None\n",
    "        self.predecessor = None\n",
    "\n",
    "    def __repr__(self):\n",
    "        return str(self.state.value)\n",
    "        # return f'({str(self.pos.r).zfill(3)}, {str(self.pos.c).zfill(3)})'\n",
    "        # return f'{self.state.value} - ({self.pos.r}, {self.pos.c})'"
   ]
  },
  {
   "cell_type": "code",
   "execution_count": 7,
   "metadata": {},
   "outputs": [],
   "source": [
    "def get_neighbours(map_arr: np.array, node: Node) -> List[Tuple]:\n",
    "    '''\n",
    "    Given a row and column coordinate, returns a list of neighbours' coordinates.\n",
    "    '''\n",
    "\n",
    "    r, c = node.pos.r, node.pos.c\n",
    "    neighbours = []\n",
    "    if r > 0:\n",
    "        neighbours.append(map_arr[r - 1][c])\n",
    "    if r < NUM_ROWS - 1:\n",
    "        neighbours.append(map_arr[r + 1][c])\n",
    "    if c > 0:\n",
    "        neighbours.append(map_arr[r][c - 1])\n",
    "    if c < NUM_COLS - 1:\n",
    "        neighbours.append(map_arr[r][c + 1])\n",
    "    return neighbours"
   ]
  },
  {
   "cell_type": "code",
   "execution_count": 8,
   "metadata": {},
   "outputs": [],
   "source": [
    "def a_star(map_arr: np.array, start_node: Node, end_node: Node) -> bool:\n",
    "    '''\n",
    "    Finds a path from origin to goal. Currently, squares on a grid are not assigned weights. Weights between nodes are all by default to 1.\n",
    "    Heuristic is euclidean distance, by assuming lattice nodes exist in the 4th quadrant of an axis. This is why the y co-ords are negated,\n",
    "    although I'm not sure it makes much of a difference. The heuristic is only considered when choosing which node to select out of a node's\n",
    "    neighbours. We do not add it to the distance when updating distance from origin node.\n",
    "    '''\n",
    "\n",
    "    dist = defaultdict(lambda: float('inf')) # Initially, distance to every other node is infinite. Replaced with tuple of 2 values which indicate a particular node (r, c)\n",
    "    dist[start_node] = 0 # Distance from start node to start node is 0\n",
    "    node = start_node\n",
    "    path_trace = []\n",
    "\n",
    "    # Calculating the initial heuristic values using Euclidean distances\n",
    "    x1, y1 = end_node.pos.r, -end_node.pos.c\n",
    "    for r in range(NUM_ROWS):\n",
    "        for c in range(NUM_COLS):\n",
    "            x2, y2 = r, -c\n",
    "            euclid_distance = math.sqrt(((x2 - x1) ** 2) + ((y2 - y1) ** 2))\n",
    "            map_arr[r][c].heuristic = euclid_distance\n",
    "\n",
    "    while True:\n",
    "        if node.state != NodeState.ORIGIN:\n",
    "            node.state = NodeState.VISITED\n",
    "        neighbours = get_neighbours(map_arr, node)\n",
    "        unvisited_neighbours = list(filter(lambda n: n.state not in [NodeState.VISITED, NodeState.ORIGIN, NodeState.WALL], neighbours))\n",
    "        for neighbour in unvisited_neighbours:\n",
    "            if dist[node] + 1 < dist[neighbour]:  # If current distance to a node is smaller than any previous possible distance, update it. Every node is only 1 node away from other nodes due to the fact that this is a nxn grid with no weights.\n",
    "                dist[neighbour] = dist[node] + 1\n",
    "                neighbour.predecessor = node\n",
    "            if neighbour == end_node:\n",
    "                print('Path found!')\n",
    "                n = neighbour\n",
    "                while n.predecessor:\n",
    "                    if n.state not in [NodeState.ORIGIN, NodeState.GOAL]:\n",
    "                        n.state = NodeState.PATH\n",
    "                    n = n.predecessor\n",
    "                return True\n",
    "        # \"Priority Queue\"\n",
    "        smallest_path_dist, smallest_path_node = float('inf'), None\n",
    "        for node in dist.keys():\n",
    "            # print(dist[node], node.heuristic, node.state)\n",
    "            if  node.state not in [NodeState.VISITED, NodeState.WALL, NodeState.ORIGIN] and (dist[node] + node.heuristic) < smallest_path_dist:\n",
    "                smallest_path_dist = dist[node] + node.heuristic\n",
    "                smallest_path_node = node\n",
    "        node = smallest_path_node\n",
    "        if not node:\n",
    "            print('No path found')\n",
    "            break"
   ]
  },
  {
   "cell_type": "code",
   "execution_count": 9,
   "metadata": {},
   "outputs": [
    {
     "name": "stdout",
     "output_type": "stream",
     "text": [
      "Path found!\n",
      "[[G X 4 4 4 1 4 0 4 0]\n",
      " [0 X X 4 4 4 4 1 4 0]\n",
      " [4 4 X 4 4 4 4 4 4 1]\n",
      " [0 1 X 1 1 4 4 4 4 4]\n",
      " [4 4 X 1 4 1 1 4 4 1]\n",
      " [4 4 X X X X X 4 4 4]\n",
      " [0 1 1 4 4 4 X 1 1 4]\n",
      " [0 1 1 4 4 4 X X X X]\n",
      " [0 0 1 4 4 1 4 4 1 X]\n",
      " [0 0 1 4 4 4 4 4 4 O]]\n"
     ]
    }
   ],
   "source": [
    "def get_random_map_array():\n",
    "    '''\n",
    "    Returns a 2D numpy array with randomized vacant and wall nodes. To change the\n",
    "    ratio of walls/vacant nodes, alter the parameter p in the call to np.random.choice.\n",
    "    '''\n",
    "    map_array = []\n",
    "    for r in range(NUM_ROWS):\n",
    "        new_row = []\n",
    "        for c in range(NUM_COLS):\n",
    "            random_state = np.random.choice([NodeState.VACANT, NodeState.WALL], p=[0.8, 0.2])\n",
    "            new_random_node = Node(Pos(r, c), random_state)\n",
    "            new_row.append(new_random_node)\n",
    "        map_array.append(new_row)\n",
    "    map_array[NUM_ROWS - 1][NUM_COLS - 1] = Node(Pos(NUM_ROWS - 1, NUM_COLS - 1), NodeState.ORIGIN)\n",
    "    map_array[0][0] = Node(Pos(0, 0), NodeState.GOAL)\n",
    "    return np.array(map_array)\n",
    "\n",
    "map_arr = get_random_map_array()\n",
    "start_node = map_arr[NUM_ROWS - 1][NUM_COLS - 1] # (r, c) - bottom right of grid\n",
    "end_node = map_arr[0][0] # - top left of grid\n",
    "a_star(map_arr, start_node, end_node)\n",
    "\n",
    "print(map_arr)"
   ]
  }
 ],
 "metadata": {
  "kernelspec": {
   "display_name": "Python 3",
   "language": "python",
   "name": "python3"
  },
  "language_info": {
   "codemirror_mode": {
    "name": "ipython",
    "version": 3
   },
   "file_extension": ".py",
   "mimetype": "text/x-python",
   "name": "python",
   "nbconvert_exporter": "python",
   "pygments_lexer": "ipython3",
   "version": "3.10.8"
  },
  "orig_nbformat": 4,
  "vscode": {
   "interpreter": {
    "hash": "b0fa6594d8f4cbf19f97940f81e996739fb7646882a419484c72d19e05852a7e"
   }
  }
 },
 "nbformat": 4,
 "nbformat_minor": 2
}
